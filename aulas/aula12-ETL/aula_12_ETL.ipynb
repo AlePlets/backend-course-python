{
 "cells": [
  {
   "cell_type": "markdown",
   "metadata": {},
   "source": [
    "# ETL\n",
    "- Extração, Transformação e Carga (Extract, Transform e Load).\n",
    "- O processo ETL é um conjunto de atividades que são realizadas para integrar, transformar e carregar dados de diversas fontes em um único destino, geralmente um data warehouse ou um data lake. \n"
   ]
  },
  {
   "cell_type": "markdown",
   "metadata": {},
   "source": [
    "### 1. Extract\n",
    "- A coleta de dados envolve a extração de informações de várias fontes e formatos, incluindo arquivos de texto e planilhas, bancos de dados como Oracle e MySQL via SQL, fontes externas como feeds RSS e APIs, e dispositivos IoT através de gateways de comunicação.\n",
    "\n"
   ]
  },
  {
   "cell_type": "markdown",
   "metadata": {},
   "source": [
    "### 2. Transform\n",
    "- Tem como objetivo transformar os dados extraídos em um formato que possa ser integrado, consolidado e analisado de forma eficiente.\n",
    "**Suas principais etapas são:**\n",
    "1. **Limpeza:** Elimina duplicatas e corrige erros.\n",
    "2. **Normalização:** Uniformiza dados para consistência.\n",
    "3. **Filtragem:** Seleciona informações relevantes.\n",
    "4. **Derivação:** Gera novos campos a partir dos dados existentes.\n",
    "5. **Agregação:** Sumariza informações detalhadas.\n",
    "6. **Combinação:** Integra dados de diversas fontes.\n",
    "7. **Enriquecimento:** Acrescenta dados externos para valor adicional.\n",
    "\n"
   ]
  },
  {
   "cell_type": "markdown",
   "metadata": {},
   "source": [
    "### 3. Load\n",
    "- O carregamento envolve transferir dados transformados para locais como data warehouses ou data lakes, visando sua disponibilização.\n",
    "1. **Mapeamento de dados:** Ajusta os dados ao esquema do destino.\n",
    "2. **Validação de dados:** Confirma a integridade e consistência dos dados.\n",
    "3. **Atualização de metadados:** Reflete alterações nos dados ou esquema.\n",
    "4. **Tratamento de erros:** Gerencia erros durante a carga, como conflitos de chave primária.\n",
    "\n"
   ]
  },
  {
   "cell_type": "markdown",
   "metadata": {},
   "source": [
    "# API\n",
    "- API (Application Programming Interface) é um conjunto de regras e especificações que possibilita a comunicação e troca de dados entre softwares distintos, facilitando a integração e a interoperabilidade entre aplicações.\n",
    "- APIs são acessíveis via tecnologias como REST, SOAP, JSON, e XML, essenciais para integração de sistemas na computação em nuvem, possibilitando soluções escaláveis e flexíveis.\n",
    "\n"
   ]
  },
  {
   "cell_type": "markdown",
   "metadata": {},
   "source": [
    "### Requisições\n",
    "- **GET**: Recupera informações de um recurso via API, como detalhes de um produto especificando seu ID.\n",
    "- **POST**: Envia informações para criar ou atualizar um recurso, como adicionar um novo produto ao estoque.\n",
    "- **PUT**: Atualiza informações de um recurso existente, como alterar detalhes de um produto com seu ID.\n",
    "- **DELETE**: Exclui um recurso específico, como remover um produto pelo ID.\n"
   ]
  },
  {
   "cell_type": "markdown",
   "metadata": {},
   "source": [
    "### API - Python\n",
    "- Uma requisição HTTP para a API, especificando a URL e os parâmetros necessários. \n",
    "Por exemplo, vamos usar a API do Rest Countries para obter dados de países."
   ]
  },
  {
   "cell_type": "code",
   "execution_count": 12,
   "metadata": {},
   "outputs": [
    {
     "name": "stdout",
     "output_type": "stream",
     "text": [
      "<Response [200]>\n"
     ]
    }
   ],
   "source": [
    "#!pip3 install requests\n",
    "import pandas as pd \n",
    "import requests\n",
    "\n",
    "url = 'https://restcountries.com/v3.1/all'\n",
    "response = requests.get(url)\n",
    "\n",
    "if response.status_code == 200:\n",
    "    data_json = response.json()\n",
    "    print(response)\n",
    "else: \n",
    "    print('Erro ao acessar a API')\n",
    "\n"
   ]
  },
  {
   "cell_type": "markdown",
   "metadata": {},
   "source": [
    "- transformar os dados em um DataFrame do Pandas"
   ]
  },
  {
   "cell_type": "code",
   "execution_count": 14,
   "metadata": {},
   "outputs": [
    {
     "data": {
      "text/html": [
       "<div>\n",
       "<style scoped>\n",
       "    .dataframe tbody tr th:only-of-type {\n",
       "        vertical-align: middle;\n",
       "    }\n",
       "\n",
       "    .dataframe tbody tr th {\n",
       "        vertical-align: top;\n",
       "    }\n",
       "\n",
       "    .dataframe thead th {\n",
       "        text-align: right;\n",
       "    }\n",
       "</style>\n",
       "<table border=\"1\" class=\"dataframe\">\n",
       "  <thead>\n",
       "    <tr style=\"text-align: right;\">\n",
       "      <th></th>\n",
       "      <th>name</th>\n",
       "      <th>tld</th>\n",
       "      <th>cca2</th>\n",
       "      <th>ccn3</th>\n",
       "      <th>cca3</th>\n",
       "      <th>cioc</th>\n",
       "      <th>independent</th>\n",
       "      <th>status</th>\n",
       "      <th>unMember</th>\n",
       "      <th>currencies</th>\n",
       "      <th>...</th>\n",
       "      <th>fifa</th>\n",
       "      <th>car</th>\n",
       "      <th>timezones</th>\n",
       "      <th>continents</th>\n",
       "      <th>flags</th>\n",
       "      <th>coatOfArms</th>\n",
       "      <th>startOfWeek</th>\n",
       "      <th>capitalInfo</th>\n",
       "      <th>postalCode</th>\n",
       "      <th>gini</th>\n",
       "    </tr>\n",
       "  </thead>\n",
       "  <tbody>\n",
       "    <tr>\n",
       "      <th>0</th>\n",
       "      <td>{'common': 'Andorra', 'official': 'Principalit...</td>\n",
       "      <td>[.ad]</td>\n",
       "      <td>AD</td>\n",
       "      <td>020</td>\n",
       "      <td>AND</td>\n",
       "      <td>AND</td>\n",
       "      <td>True</td>\n",
       "      <td>officially-assigned</td>\n",
       "      <td>True</td>\n",
       "      <td>{'EUR': {'name': 'Euro', 'symbol': '€'}}</td>\n",
       "      <td>...</td>\n",
       "      <td>AND</td>\n",
       "      <td>{'signs': ['AND'], 'side': 'right'}</td>\n",
       "      <td>[UTC+01:00]</td>\n",
       "      <td>[Europe]</td>\n",
       "      <td>{'png': 'https://flagcdn.com/w320/ad.png', 'sv...</td>\n",
       "      <td>{'png': 'https://mainfacts.com/media/images/co...</td>\n",
       "      <td>monday</td>\n",
       "      <td>{'latlng': [42.5, 1.52]}</td>\n",
       "      <td>{'format': 'AD###', 'regex': '^(?:AD)*(\\d{3})$'}</td>\n",
       "      <td>NaN</td>\n",
       "    </tr>\n",
       "    <tr>\n",
       "      <th>1</th>\n",
       "      <td>{'common': 'French Southern and Antarctic Land...</td>\n",
       "      <td>[.tf]</td>\n",
       "      <td>TF</td>\n",
       "      <td>260</td>\n",
       "      <td>ATF</td>\n",
       "      <td>NaN</td>\n",
       "      <td>False</td>\n",
       "      <td>officially-assigned</td>\n",
       "      <td>False</td>\n",
       "      <td>{'EUR': {'name': 'Euro', 'symbol': '€'}}</td>\n",
       "      <td>...</td>\n",
       "      <td>NaN</td>\n",
       "      <td>{'signs': [''], 'side': 'right'}</td>\n",
       "      <td>[UTC+05:00]</td>\n",
       "      <td>[Antarctica]</td>\n",
       "      <td>{'png': 'https://flagcdn.com/w320/tf.png', 'sv...</td>\n",
       "      <td>{'png': 'https://mainfacts.com/media/images/co...</td>\n",
       "      <td>monday</td>\n",
       "      <td>{'latlng': [48.81, -1.4]}</td>\n",
       "      <td>NaN</td>\n",
       "      <td>NaN</td>\n",
       "    </tr>\n",
       "  </tbody>\n",
       "</table>\n",
       "<p>2 rows × 35 columns</p>\n",
       "</div>"
      ],
      "text/plain": [
       "                                                name    tld cca2 ccn3 cca3  \\\n",
       "0  {'common': 'Andorra', 'official': 'Principalit...  [.ad]   AD  020  AND   \n",
       "1  {'common': 'French Southern and Antarctic Land...  [.tf]   TF  260  ATF   \n",
       "\n",
       "  cioc independent               status  unMember  \\\n",
       "0  AND        True  officially-assigned      True   \n",
       "1  NaN       False  officially-assigned     False   \n",
       "\n",
       "                                 currencies  ... fifa  \\\n",
       "0  {'EUR': {'name': 'Euro', 'symbol': '€'}}  ...  AND   \n",
       "1  {'EUR': {'name': 'Euro', 'symbol': '€'}}  ...  NaN   \n",
       "\n",
       "                                   car    timezones    continents  \\\n",
       "0  {'signs': ['AND'], 'side': 'right'}  [UTC+01:00]      [Europe]   \n",
       "1     {'signs': [''], 'side': 'right'}  [UTC+05:00]  [Antarctica]   \n",
       "\n",
       "                                               flags  \\\n",
       "0  {'png': 'https://flagcdn.com/w320/ad.png', 'sv...   \n",
       "1  {'png': 'https://flagcdn.com/w320/tf.png', 'sv...   \n",
       "\n",
       "                                          coatOfArms startOfWeek  \\\n",
       "0  {'png': 'https://mainfacts.com/media/images/co...      monday   \n",
       "1  {'png': 'https://mainfacts.com/media/images/co...      monday   \n",
       "\n",
       "                 capitalInfo  \\\n",
       "0   {'latlng': [42.5, 1.52]}   \n",
       "1  {'latlng': [48.81, -1.4]}   \n",
       "\n",
       "                                         postalCode gini  \n",
       "0  {'format': 'AD###', 'regex': '^(?:AD)*(\\d{3})$'}  NaN  \n",
       "1                                               NaN  NaN  \n",
       "\n",
       "[2 rows x 35 columns]"
      ]
     },
     "execution_count": 14,
     "metadata": {},
     "output_type": "execute_result"
    }
   ],
   "source": [
    "data_json\n",
    "paises_full = pd.DataFrame(data_json)\n",
    "paises_full.head(2)"
   ]
  },
  {
   "cell_type": "markdown",
   "metadata": {},
   "source": [
    "- Exemplo de tratamento para selecionar corretamente os dados:"
   ]
  },
  {
   "cell_type": "code",
   "execution_count": null,
   "metadata": {},
   "outputs": [],
   "source": [
    "nome = [pais['name']['common'] for pais in data]\n",
    "region = [pais['region'] for pais in data]\n",
    "population = [pais['population'] for pais in data]\n",
    "\n",
    "paises = pd.DataFrame({\n",
    "    \"Nome\": nome,\n",
    "    \"Regiao\": region,\n",
    "    \"Populacao\": population\n",
    "})\n",
    "paises.head(3)"
   ]
  }
 ],
 "metadata": {
  "kernelspec": {
   "display_name": "Python 3",
   "language": "python",
   "name": "python3"
  },
  "language_info": {
   "codemirror_mode": {
    "name": "ipython",
    "version": 3
   },
   "file_extension": ".py",
   "mimetype": "text/x-python",
   "name": "python",
   "nbconvert_exporter": "python",
   "pygments_lexer": "ipython3",
   "version": "3.10.11"
  }
 },
 "nbformat": 4,
 "nbformat_minor": 2
}
