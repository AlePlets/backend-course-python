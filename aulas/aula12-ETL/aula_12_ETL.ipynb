{
 "cells": [
  {
   "cell_type": "markdown",
   "metadata": {},
   "source": [
    "# ETL\n",
    "- Extração, Transformação e Carga (Extract, Transform e Load).\n"
   ]
  },
  {
   "cell_type": "code",
   "execution_count": 1,
   "metadata": {},
   "outputs": [
    {
     "name": "stdout",
     "output_type": "stream",
     "text": [
      "<Response [200]>\n"
     ]
    }
   ],
   "source": [
    "#!pip3 install requests\n",
    "import pandas as pd \n",
    "import requests\n",
    "\n",
    "url = 'https://restcountries.com/v3.1/all'\n",
    "response = requests.get(url)\n",
    "\n",
    "if response.status_code == 200:\n",
    "    data_json = response.json()\n",
    "    print(response)\n",
    "else: \n",
    "    print('Erro ao acessar a API')\n",
    "\n"
   ]
  },
  {
   "cell_type": "markdown",
   "metadata": {},
   "source": [
    "- transformar os dados em um DataFrame do Pandas"
   ]
  },
  {
   "cell_type": "code",
   "execution_count": 2,
   "metadata": {},
   "outputs": [
    {
     "data": {
      "text/html": [
       "<div>\n",
       "<style scoped>\n",
       "    .dataframe tbody tr th:only-of-type {\n",
       "        vertical-align: middle;\n",
       "    }\n",
       "\n",
       "    .dataframe tbody tr th {\n",
       "        vertical-align: top;\n",
       "    }\n",
       "\n",
       "    .dataframe thead th {\n",
       "        text-align: right;\n",
       "    }\n",
       "</style>\n",
       "<table border=\"1\" class=\"dataframe\">\n",
       "  <thead>\n",
       "    <tr style=\"text-align: right;\">\n",
       "      <th></th>\n",
       "      <th>name</th>\n",
       "      <th>tld</th>\n",
       "      <th>cca2</th>\n",
       "      <th>ccn3</th>\n",
       "      <th>cca3</th>\n",
       "      <th>cioc</th>\n",
       "      <th>independent</th>\n",
       "      <th>status</th>\n",
       "      <th>unMember</th>\n",
       "      <th>currencies</th>\n",
       "      <th>...</th>\n",
       "      <th>fifa</th>\n",
       "      <th>car</th>\n",
       "      <th>timezones</th>\n",
       "      <th>continents</th>\n",
       "      <th>flags</th>\n",
       "      <th>coatOfArms</th>\n",
       "      <th>startOfWeek</th>\n",
       "      <th>capitalInfo</th>\n",
       "      <th>postalCode</th>\n",
       "      <th>borders</th>\n",
       "    </tr>\n",
       "  </thead>\n",
       "  <tbody>\n",
       "    <tr>\n",
       "      <th>0</th>\n",
       "      <td>{'common': 'Cyprus', 'official': 'Republic of ...</td>\n",
       "      <td>[.cy]</td>\n",
       "      <td>CY</td>\n",
       "      <td>196</td>\n",
       "      <td>CYP</td>\n",
       "      <td>CYP</td>\n",
       "      <td>True</td>\n",
       "      <td>officially-assigned</td>\n",
       "      <td>True</td>\n",
       "      <td>{'EUR': {'name': 'Euro', 'symbol': '€'}}</td>\n",
       "      <td>...</td>\n",
       "      <td>CYP</td>\n",
       "      <td>{'signs': ['CY'], 'side': 'left'}</td>\n",
       "      <td>[UTC+02:00]</td>\n",
       "      <td>[Europe]</td>\n",
       "      <td>{'png': 'https://flagcdn.com/w320/cy.png', 'sv...</td>\n",
       "      <td>{'png': 'https://mainfacts.com/media/images/co...</td>\n",
       "      <td>monday</td>\n",
       "      <td>{'latlng': [35.17, 33.37]}</td>\n",
       "      <td>{'format': '####', 'regex': '^(\\d{4})$'}</td>\n",
       "      <td>NaN</td>\n",
       "    </tr>\n",
       "    <tr>\n",
       "      <th>1</th>\n",
       "      <td>{'common': 'Eritrea', 'official': 'State of Er...</td>\n",
       "      <td>[.er]</td>\n",
       "      <td>ER</td>\n",
       "      <td>232</td>\n",
       "      <td>ERI</td>\n",
       "      <td>ERI</td>\n",
       "      <td>True</td>\n",
       "      <td>officially-assigned</td>\n",
       "      <td>True</td>\n",
       "      <td>{'ERN': {'name': 'Eritrean nakfa', 'symbol': '...</td>\n",
       "      <td>...</td>\n",
       "      <td>ERI</td>\n",
       "      <td>{'signs': ['ER'], 'side': 'right'}</td>\n",
       "      <td>[UTC+03:00]</td>\n",
       "      <td>[Africa]</td>\n",
       "      <td>{'png': 'https://flagcdn.com/w320/er.png', 'sv...</td>\n",
       "      <td>{'png': 'https://mainfacts.com/media/images/co...</td>\n",
       "      <td>monday</td>\n",
       "      <td>{'latlng': [15.33, 38.93]}</td>\n",
       "      <td>NaN</td>\n",
       "      <td>[DJI, ETH, SDN]</td>\n",
       "    </tr>\n",
       "  </tbody>\n",
       "</table>\n",
       "<p>2 rows × 35 columns</p>\n",
       "</div>"
      ],
      "text/plain": [
       "                                                name    tld cca2 ccn3 cca3  \\\n",
       "0  {'common': 'Cyprus', 'official': 'Republic of ...  [.cy]   CY  196  CYP   \n",
       "1  {'common': 'Eritrea', 'official': 'State of Er...  [.er]   ER  232  ERI   \n",
       "\n",
       "  cioc independent               status  unMember  \\\n",
       "0  CYP        True  officially-assigned      True   \n",
       "1  ERI        True  officially-assigned      True   \n",
       "\n",
       "                                          currencies  ... fifa  \\\n",
       "0           {'EUR': {'name': 'Euro', 'symbol': '€'}}  ...  CYP   \n",
       "1  {'ERN': {'name': 'Eritrean nakfa', 'symbol': '...  ...  ERI   \n",
       "\n",
       "                                  car    timezones continents  \\\n",
       "0   {'signs': ['CY'], 'side': 'left'}  [UTC+02:00]   [Europe]   \n",
       "1  {'signs': ['ER'], 'side': 'right'}  [UTC+03:00]   [Africa]   \n",
       "\n",
       "                                               flags  \\\n",
       "0  {'png': 'https://flagcdn.com/w320/cy.png', 'sv...   \n",
       "1  {'png': 'https://flagcdn.com/w320/er.png', 'sv...   \n",
       "\n",
       "                                          coatOfArms startOfWeek  \\\n",
       "0  {'png': 'https://mainfacts.com/media/images/co...      monday   \n",
       "1  {'png': 'https://mainfacts.com/media/images/co...      monday   \n",
       "\n",
       "                  capitalInfo                                postalCode  \\\n",
       "0  {'latlng': [35.17, 33.37]}  {'format': '####', 'regex': '^(\\d{4})$'}   \n",
       "1  {'latlng': [15.33, 38.93]}                                       NaN   \n",
       "\n",
       "           borders  \n",
       "0              NaN  \n",
       "1  [DJI, ETH, SDN]  \n",
       "\n",
       "[2 rows x 35 columns]"
      ]
     },
     "execution_count": 2,
     "metadata": {},
     "output_type": "execute_result"
    }
   ],
   "source": [
    "data_json\n",
    "paises_full = pd.DataFrame(data_json)\n",
    "paises_full.head(2)"
   ]
  },
  {
   "cell_type": "markdown",
   "metadata": {},
   "source": [
    "- Exemplo de tratamento para selecionar corretamente os dados:"
   ]
  },
  {
   "cell_type": "code",
   "execution_count": 3,
   "metadata": {},
   "outputs": [
    {
     "ename": "NameError",
     "evalue": "name 'data' is not defined",
     "output_type": "error",
     "traceback": [
      "\u001b[0;31m---------------------------------------------------------------------------\u001b[0m",
      "\u001b[0;31mNameError\u001b[0m                                 Traceback (most recent call last)",
      "Cell \u001b[0;32mIn[3], line 1\u001b[0m\n\u001b[0;32m----> 1\u001b[0m nome \u001b[38;5;241m=\u001b[39m [pais[\u001b[38;5;124m'\u001b[39m\u001b[38;5;124mname\u001b[39m\u001b[38;5;124m'\u001b[39m][\u001b[38;5;124m'\u001b[39m\u001b[38;5;124mcommon\u001b[39m\u001b[38;5;124m'\u001b[39m] \u001b[38;5;28;01mfor\u001b[39;00m pais \u001b[38;5;129;01min\u001b[39;00m \u001b[43mdata\u001b[49m]\n\u001b[1;32m      2\u001b[0m region \u001b[38;5;241m=\u001b[39m [pais[\u001b[38;5;124m'\u001b[39m\u001b[38;5;124mregion\u001b[39m\u001b[38;5;124m'\u001b[39m] \u001b[38;5;28;01mfor\u001b[39;00m pais \u001b[38;5;129;01min\u001b[39;00m data]\n\u001b[1;32m      3\u001b[0m population \u001b[38;5;241m=\u001b[39m [pais[\u001b[38;5;124m'\u001b[39m\u001b[38;5;124mpopulation\u001b[39m\u001b[38;5;124m'\u001b[39m] \u001b[38;5;28;01mfor\u001b[39;00m pais \u001b[38;5;129;01min\u001b[39;00m data]\n",
      "\u001b[0;31mNameError\u001b[0m: name 'data' is not defined"
     ]
    }
   ],
   "source": [
    "nome = [pais['name']['common'] for pais in data]\n",
    "region = [pais['region'] for pais in data]\n",
    "population = [pais['population'] for pais in data]\n",
    "\n",
    "paises = pd.DataFrame({\n",
    "    \"Nome\": nome,\n",
    "    \"Regiao\": region,\n",
    "    \"Populacao\": population\n",
    "})\n",
    "paises.head(3)"
   ]
  }
 ],
 "metadata": {
  "kernelspec": {
   "display_name": "Python 3",
   "language": "python",
   "name": "python3"
  },
  "language_info": {
   "codemirror_mode": {
    "name": "ipython",
    "version": 3
   },
   "file_extension": ".py",
   "mimetype": "text/x-python",
   "name": "python",
   "nbconvert_exporter": "python",
   "pygments_lexer": "ipython3",
   "version": "3.10.11"
  }
 },
 "nbformat": 4,
 "nbformat_minor": 2
}
