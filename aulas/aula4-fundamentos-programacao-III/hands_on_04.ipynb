{
 "cells": [
  {
   "cell_type": "markdown",
   "metadata": {},
   "source": [
    "# Mão na Massa"
   ]
  },
  {
   "cell_type": "markdown",
   "metadata": {},
   "source": [
    "1. Crie uma função lambda chamada eh_multiplo_dez() que retorna True se um determinado número é múltiplo de 10 e False caso contrário."
   ]
  },
  {
   "cell_type": "code",
   "execution_count": 2,
   "metadata": {},
   "outputs": [
    {
     "data": {
      "text/plain": [
       "True"
      ]
     },
     "execution_count": 2,
     "metadata": {},
     "output_type": "execute_result"
    }
   ],
   "source": [
    "eh_multiplo_dez = lambda x: x % 10 == 0\n",
    "eh_multiplo_dez(10)"
   ]
  },
  {
   "cell_type": "markdown",
   "metadata": {},
   "source": [
    "2. Converta o programa de cálculo de fatorial da aula anterior para uma função. A função recebe como argumento o n e retorna o fatorial de n.\n"
   ]
  },
  {
   "cell_type": "code",
   "execution_count": 11,
   "metadata": {},
   "outputs": [
    {
     "data": {
      "text/plain": [
       "2432902008176640000"
      ]
     },
     "execution_count": 11,
     "metadata": {},
     "output_type": "execute_result"
    }
   ],
   "source": [
    "def calcular_fatorial(n):\n",
    "    fatorial = 1\n",
    "    for i in range(1, n+1):\n",
    "        fatorial *= i\n",
    "    return fatorial\n",
    "\n",
    "calcular_fatorial(20)"
   ]
  },
  {
   "cell_type": "markdown",
   "metadata": {},
   "source": [
    "3. Crie uma função primeiro_nome que recebe uma string com o nome completo e retorna somente o primeiro nome. "
   ]
  },
  {
   "cell_type": "code",
   "execution_count": 13,
   "metadata": {},
   "outputs": [
    {
     "name": "stdout",
     "output_type": "stream",
     "text": [
      "O primeiro nome é: Alessanda\n"
     ]
    }
   ],
   "source": [
    "def primeiro_nome(nome_completo):\n",
    "    primeiro = nome_completo.split(' ')[0]\n",
    "    return primeiro\n",
    "\n",
    "nome_completo = input(\"Digite seu nome completo: \")\n",
    "primeiro = primeiro_nome(nome_completo)\n",
    "print(\"O primeiro nome é:\", primeiro)\n"
   ]
  },
  {
   "cell_type": "markdown",
   "metadata": {},
   "source": [
    "4. Em seguida, use a função map para aplicar a função a uma lista de strings:\n",
    "nomes = ['João Carlos', 'Maria Eduarda', 'Ana Rute', 'Ana Clara']"
   ]
  },
  {
   "cell_type": "code",
   "execution_count": 14,
   "metadata": {},
   "outputs": [
    {
     "name": "stdout",
     "output_type": "stream",
     "text": [
      "['João', 'Maria', 'Ana', 'Ana']\n"
     ]
    }
   ],
   "source": [
    "def primeiro_nome(nome_completo):\n",
    "    primeiro = nome_completo.split(' ')[0]\n",
    "    return primeiro\n",
    "\n",
    "nomes = ['João Carlos', 'Maria Eduarda', 'Ana Rute', 'Ana Clara']\n",
    "\n",
    "primeiros_nomes = map(primeiro_nome, nomes)\n",
    "\n",
    "lista_primeiros_nomes = list(primeiros_nomes)\n",
    "print(lista_primeiros_nomes)\n"
   ]
  },
  {
   "cell_type": "markdown",
   "metadata": {},
   "source": [
    "5. Escreva uma função que receba uma data no formato dd/mm/aaaa e retorne o dia da semana correspondente (Monday, Tuesday, etc.)."
   ]
  },
  {
   "cell_type": "code",
   "execution_count": 16,
   "metadata": {},
   "outputs": [
    {
     "name": "stdout",
     "output_type": "stream",
     "text": [
      "Friday\n"
     ]
    }
   ],
   "source": [
    "from datetime import datetime\n",
    "\n",
    "def semana(data):\n",
    "    data_formatada = datetime.strptime(data, '%d/%m/%Y')\n",
    "\n",
    "    dia_semana = data_formatada.strftime('%A')\n",
    "    return dia_semana\n",
    "\n",
    "data = input(\"Data: \")\n",
    "dia = semana(data)\n",
    "print(dia)\n",
    "    "
   ]
  }
 ],
 "metadata": {
  "kernelspec": {
   "display_name": "Python 3",
   "language": "python",
   "name": "python3"
  },
  "language_info": {
   "codemirror_mode": {
    "name": "ipython",
    "version": 3
   },
   "file_extension": ".py",
   "mimetype": "text/x-python",
   "name": "python",
   "nbconvert_exporter": "python",
   "pygments_lexer": "ipython3",
   "version": "3.11.5"
  }
 },
 "nbformat": 4,
 "nbformat_minor": 2
}
