{
 "cells": [
  {
   "cell_type": "markdown",
   "metadata": {},
   "source": [
    "## Funções\n",
    "\n",
    "- Bloco de código que realizam uma tarefa para ser chamada várias vezes, usada para não ficar repetindo o código"
   ]
  },
  {
   "cell_type": "code",
   "execution_count": 13,
   "metadata": {},
   "outputs": [
    {
     "data": {
      "text/plain": [
       "20"
      ]
     },
     "execution_count": 13,
     "metadata": {},
     "output_type": "execute_result"
    }
   ],
   "source": [
    "def mul(a,b):\n",
    "    x = a*b\n",
    "    return x\n",
    "mul(4,5)"
   ]
  },
  {
   "cell_type": "code",
   "execution_count": 14,
   "metadata": {},
   "outputs": [
    {
     "name": "stdout",
     "output_type": "stream",
     "text": [
      "Olá\n"
     ]
    }
   ],
   "source": [
    "def diga_ola():\n",
    "    print(\"Olá\")\n",
    "    \n",
    "diga_ola()"
   ]
  },
  {
   "cell_type": "code",
   "execution_count": 15,
   "metadata": {},
   "outputs": [
    {
     "name": "stdout",
     "output_type": "stream",
     "text": [
      "(5, 3)\n",
      "(5, 3)\n"
     ]
    }
   ],
   "source": [
    "def ordena(a,b):\n",
    "    if a > b:\n",
    "        return a,b\n",
    "    return b,a\n",
    "\n",
    "print(ordena(5,3))\n",
    "print(ordena(3,5))"
   ]
  },
  {
   "cell_type": "code",
   "execution_count": 16,
   "metadata": {},
   "outputs": [
    {
     "data": {
      "text/plain": [
       "32.2707877657858"
      ]
     },
     "execution_count": 16,
     "metadata": {},
     "output_type": "execute_result"
    }
   ],
   "source": [
    "def imc(peso,altura):\n",
    "    imc = peso/altura**2\n",
    "    return(imc)\n",
    "imc(90,1.67)"
   ]
  },
  {
   "cell_type": "code",
   "execution_count": 17,
   "metadata": {},
   "outputs": [
    {
     "name": "stdout",
     "output_type": "stream",
     "text": [
      "Print A: 200\n",
      "Print B: 200\n",
      "Print C: 10\n",
      "Print D: 3\n",
      "Print E: 200\n"
     ]
    }
   ],
   "source": [
    "x = 200\n",
    "print(\"Print A:\", x)\n",
    "\n",
    "def mostraX (x):\n",
    "    print(\"Print C:\", x)\n",
    "    x = 3\n",
    "    print(\"Print D:\", x)\n",
    "    \n",
    "print(\"Print B:\", x)\n",
    "mostraX(10)\n",
    "print(\"Print E:\", x)"
   ]
  },
  {
   "cell_type": "code",
   "execution_count": 18,
   "metadata": {},
   "outputs": [
    {
     "name": "stdout",
     "output_type": "stream",
     "text": [
      "Imposto de: 750.0\n",
      "Imposto de: 500.0\n",
      "Imposto de: 500.0\n"
     ]
    }
   ],
   "source": [
    "def calc_imposto(salario, taxa=0.1):\n",
    "    imposto = salario * taxa\n",
    "    print(\"Imposto de:\", imposto)\n",
    "    \n",
    "calc_imposto(5000, 0.15)\n",
    "calc_imposto(5000, 0.1)\n",
    "calc_imposto(5000)"
   ]
  },
  {
   "cell_type": "markdown",
   "metadata": {},
   "source": [
    "## Lambda\n",
    "\n",
    "- Função anônima para criar funções simples somente em uma linha.\n",
    "- Não é possível definir múltiplas instruções."
   ]
  },
  {
   "cell_type": "markdown",
   "metadata": {},
   "source": []
  },
  {
   "cell_type": "code",
   "execution_count": 19,
   "metadata": {},
   "outputs": [
    {
     "data": {
      "text/plain": [
       "16"
      ]
     },
     "execution_count": 19,
     "metadata": {},
     "output_type": "execute_result"
    }
   ],
   "source": [
    "quadrado = lambda x: x ** 2\n",
    "quadrado(4)"
   ]
  },
  {
   "cell_type": "code",
   "execution_count": 20,
   "metadata": {},
   "outputs": [
    {
     "data": {
      "text/plain": [
       "False"
      ]
     },
     "execution_count": 20,
     "metadata": {},
     "output_type": "execute_result"
    }
   ],
   "source": [
    "par = lambda x: (x % 2) == 0 # Se o resto da divisão é 0\n",
    "par(3)"
   ]
  },
  {
   "cell_type": "code",
   "execution_count": 21,
   "metadata": {},
   "outputs": [
    {
     "data": {
      "text/plain": [
       "27"
      ]
     },
     "execution_count": 21,
     "metadata": {},
     "output_type": "execute_result"
    }
   ],
   "source": [
    "cubo = lambda num: num ** 3\n",
    "cubo(3)"
   ]
  },
  {
   "cell_type": "code",
   "execution_count": 23,
   "metadata": {},
   "outputs": [
    {
     "data": {
      "text/plain": [
       "33.462224866151104"
      ]
     },
     "execution_count": 23,
     "metadata": {},
     "output_type": "execute_result"
    }
   ],
   "source": [
    "imc = lambda peso, altura: peso / altura**2\n",
    "imc(90, 1.64)"
   ]
  },
  {
   "cell_type": "markdown",
   "metadata": {},
   "source": [
    "## Map\n",
    "\n",
    "- Função que recebe uma função e iteráveis como argumentos e aplica a função para cada elemento desses iteráveis.\n",
    "- Sintaxe: map(função, interavel1 [iteravel2, ..., iteraveln])"
   ]
  },
  {
   "cell_type": "code",
   "execution_count": 24,
   "metadata": {},
   "outputs": [
    {
     "name": "stdout",
     "output_type": "stream",
     "text": [
      "[6, 4, 6]\n"
     ]
    }
   ],
   "source": [
    "frutas = ['banana', 'pera', 'tomate']\n",
    "tamanhos = map(len, frutas)\n",
    "print(list(tamanhos))"
   ]
  },
  {
   "cell_type": "code",
   "execution_count": 25,
   "metadata": {},
   "outputs": [
    {
     "name": "stdout",
     "output_type": "stream",
     "text": [
      "[9, 16, 25]\n"
     ]
    }
   ],
   "source": [
    "lista_quadrados = list(map(quadrado, [3,4,5]))\n",
    "print(lista_quadrados)"
   ]
  },
  {
   "cell_type": "code",
   "execution_count": 27,
   "metadata": {},
   "outputs": [
    {
     "data": {
      "text/plain": [
       "[0, 3, 5, 6, 9, 10, 12, 15, 18]"
      ]
     },
     "execution_count": 27,
     "metadata": {},
     "output_type": "execute_result"
    }
   ],
   "source": [
    "multiplos = [\n",
    "    i for i in range(20) # Itera sobre os números de 0 a 19\n",
    "    if (i%3==0 or i%5==0)] # Inclui o número na lista se for múltiplo de 3 ou 5\n",
    "multiplos # A lista 'multiplos' agora contém números de 0 a 19 que são múltiplos de 3 ou 5\n"
   ]
  },
  {
   "cell_type": "code",
   "execution_count": 30,
   "metadata": {},
   "outputs": [
    {
     "data": {
      "text/plain": [
       "[0, 2, 4, 6, 8]"
      ]
     },
     "execution_count": 30,
     "metadata": {},
     "output_type": "execute_result"
    }
   ],
   "source": [
    "sequencia = []\n",
    "for i in range(len(multiplos)): # Percorrendo cada índice na lista 'multiplos'\n",
    "    if i%2==0: # Verifica se o índice é par\n",
    "        sequencia.append(i) # Adiciona o índice atual à lista 'sequencia'\n",
    "sequencia # A lista 'sequencia' agora contém os índices dos elementos da lista 'multiplos'"
   ]
  },
  {
   "cell_type": "code",
   "execution_count": 33,
   "metadata": {},
   "outputs": [
    {
     "name": "stdout",
     "output_type": "stream",
     "text": [
      "[2, 4, 6, 8, 10]\n"
     ]
    }
   ],
   "source": [
    "# Função para dobrar o valor\n",
    "def dobrar(n):\n",
    "    return n * 2\n",
    "\n",
    "# Lista original de números\n",
    "numeros = [1, 2, 3, 4, 5]\n",
    "\n",
    "# Usando map para aplicar a função 'dobrar' a cada elemento da lista 'numeros'\n",
    "resultados = map(dobrar, numeros)\n",
    "\n",
    "# Convertendo o resultado para uma lista para visualização\n",
    "lista_resultados = list(resultados)\n",
    "print(lista_resultados)\n"
   ]
  },
  {
   "cell_type": "code",
   "execution_count": 34,
   "metadata": {},
   "outputs": [
    {
     "name": "stdout",
     "output_type": "stream",
     "text": [
      "['MAÇÃ', 'BANANA', 'CEREJA']\n"
     ]
    }
   ],
   "source": [
    "# Lista de strings\n",
    "palavras = [\"maçã\", \"banana\", \"cereja\"]\n",
    "\n",
    "# Usando map para converter cada palavra em maiúscula\n",
    "palavras_maiusculas = map(str.upper, palavras)\n",
    "\n",
    "# Convertendo o resultado para uma lista para visualização\n",
    "lista_maiusculas = list(palavras_maiusculas)\n",
    "print(lista_maiusculas)\n"
   ]
  },
  {
   "cell_type": "code",
   "execution_count": 35,
   "metadata": {},
   "outputs": [
    {
     "name": "stdout",
     "output_type": "stream",
     "text": [
      "[4, 8, 8]\n"
     ]
    }
   ],
   "source": [
    "# Lista de palavras\n",
    "palavras = [\"gato\", \"cachorro\", \"papagaio\"]\n",
    "\n",
    "# Usando map para calcular o comprimento de cada palavra\n",
    "comprimentos = map(len, palavras)\n",
    "\n",
    "# Convertendo o resultado para uma lista para visualização\n",
    "lista_comprimentos = list(comprimentos)\n",
    "print(lista_comprimentos)\n"
   ]
  },
  {
   "cell_type": "markdown",
   "metadata": {},
   "source": [
    "## Date/Time\n",
    "\n",
    "- Datas, horários e deltas é feito com o módulo datetime\n",
    "  \n",
    "```date(ANO, MES, DIA)```\n",
    "- Metodo today() retorna a data atual\n",
    "- now () retorna data e horário atual"
   ]
  },
  {
   "cell_type": "code",
   "execution_count": 41,
   "metadata": {},
   "outputs": [],
   "source": [
    "from datetime import date\n",
    "aniversario = date(2023, 1, 25)\n",
    "print(aniversario)"
   ]
  },
  {
   "cell_type": "code",
   "execution_count": 42,
   "metadata": {},
   "outputs": [
    {
     "name": "stdout",
     "output_type": "stream",
     "text": [
      "2023-01-25\n"
     ]
    }
   ],
   "source": [
    "aniversario = date(2023, 1, 25)\n",
    "formatado = aniversario.strftime(\"%d/%m/%Y\")\n",
    "print(formatado)"
   ]
  },
  {
   "cell_type": "code",
   "execution_count": 37,
   "metadata": {},
   "outputs": [
    {
     "data": {
      "text/plain": [
       "datetime.date(2023, 12, 21)"
      ]
     },
     "execution_count": 37,
     "metadata": {},
     "output_type": "execute_result"
    }
   ],
   "source": [
    "date.today()"
   ]
  },
  {
   "cell_type": "code",
   "execution_count": 38,
   "metadata": {},
   "outputs": [
    {
     "data": {
      "text/plain": [
       "'2023-12-21 20:47:10.613162'"
      ]
     },
     "execution_count": 38,
     "metadata": {},
     "output_type": "execute_result"
    }
   ],
   "source": [
    "from datetime import datetime\n",
    "str(datetime.now())"
   ]
  },
  {
   "cell_type": "code",
   "execution_count": null,
   "metadata": {},
   "outputs": [],
   "source": []
  }
 ],
 "metadata": {
  "kernelspec": {
   "display_name": "Python 3",
   "language": "python",
   "name": "python3"
  },
  "language_info": {
   "codemirror_mode": {
    "name": "ipython",
    "version": 3
   },
   "file_extension": ".py",
   "mimetype": "text/x-python",
   "name": "python",
   "nbconvert_exporter": "python",
   "pygments_lexer": "ipython3",
   "version": "3.11.5"
  }
 },
 "nbformat": 4,
 "nbformat_minor": 2
}
