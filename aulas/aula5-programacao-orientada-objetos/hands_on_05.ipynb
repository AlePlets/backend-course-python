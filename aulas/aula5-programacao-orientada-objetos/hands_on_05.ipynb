{
 "cells": [
  {
   "cell_type": "markdown",
   "metadata": {},
   "source": [
    "### Momento mão na massa"
   ]
  },
  {
   "cell_type": "markdown",
   "metadata": {},
   "source": [
    "- Crie uma classe Retangulo que tenha os atributos base e altura e os métodos area() e perimetro(). Crie um objeto e teste os métodos. "
   ]
  },
  {
   "cell_type": "code",
   "execution_count": null,
   "metadata": {},
   "outputs": [],
   "source": [
    "class Retangulo:\n",
    "    def __init__(self, base, altura):\n",
    "        self.base = base\n",
    "        self.altura = altura\n",
    "\n",
    "    def area(self):\n",
    "        return self.base * self.altura\n",
    "        \n",
    "    def perimetro(self):\n",
    "        return 2 * self.base + self.altura\n",
    "        \n",
    "\n",
    "quadrilatero = Retangulo(10, 5)\n",
    "print(\"Área do Retângulo:\", quadrilatero.area())\n",
    "print(\"Perímetro do Retângulo:\", quadrilatero.perimetro())"
   ]
  },
  {
   "cell_type": "markdown",
   "metadata": {},
   "source": [
    "- Crie um arquivo chamado geometria.py e salve a classe Retangulo dentro desse arquivo. Importe a classe de algum outro arquivo e realize testes."
   ]
  },
  {
   "cell_type": "code",
   "execution_count": null,
   "metadata": {},
   "outputs": [],
   "source": [
    "from utils import Retangulo\n",
    "quadrilatero = Retangulo(10,2)\n",
    "print(\"Área do Retângulo:\", quadrilatero.area())\n",
    "print(\"Perímetro do Retângulo:\", quadrilatero.perimetro())"
   ]
  },
  {
   "cell_type": "markdown",
   "metadata": {},
   "source": [
    "- Crie uma classe Conta que tenha os atributos saldo e titular e os métodos depositar() e sacar(). Em seguida, instancie essa classe com um saldo inicial e realize algumas operações de depósito e saque para verificar se o saldo está sendo atualizado corretamente."
   ]
  },
  {
   "cell_type": "code",
   "execution_count": null,
   "metadata": {},
   "outputs": [],
   "source": [
    "class Conta:\n",
    "    def __init__(self, saldo, titular):\n",
    "        self.saldo = saldo\n",
    "        self.titular = titular\n",
    "        \n",
    "    def depositar(self, deposito):\n",
    "        self.saldo += self.saldo + deposito\n",
    "        print(f\"Saldo atual é R${self.saldo}\")\n",
    "        \n",
    "    def sacar(self, saque):\n",
    "        if self.saldo >= saque:\n",
    "            self.saldo -= saque\n",
    "            print(f\"Saldo é R${self.saldo}\")\n",
    "        else:\n",
    "            print(f\"Saldo insuficiente, seu saldo é de: R${self.saldo}\")\n",
    "        \n",
    "        \n",
    "id1 = Conta(0,'Alessandra')\n",
    "id1.depositar(1000)\n",
    "id1.sacar(200)"
   ]
  }
 ],
 "metadata": {
  "kernelspec": {
   "display_name": "Python 3",
   "language": "python",
   "name": "python3"
  },
  "language_info": {
   "codemirror_mode": {
    "name": "ipython",
    "version": 3
   },
   "file_extension": ".py",
   "mimetype": "text/x-python",
   "name": "python",
   "nbconvert_exporter": "python",
   "pygments_lexer": "ipython3",
   "version": "3.11.5"
  }
 },
 "nbformat": 4,
 "nbformat_minor": 2
}
