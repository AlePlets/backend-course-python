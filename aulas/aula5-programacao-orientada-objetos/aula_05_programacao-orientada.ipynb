{
 "cells": [
  {
   "cell_type": "markdown",
   "metadata": {},
   "source": [
    "## Programação Orientada a Objetos\n",
    "- Modelos que definem como programs serão escritos, estruturados e organizados para resolver um problema.\n",
    "- **Dois paradigmas:**\n",
    "  - Programação Funcional\n",
    "  - Programação Orientada a Objetos\n",
    "\n",
    "- ## Ou seja:##\n",
    "- POO é um paradigma de programação que se concentra na criação de objetos, que são instâncias de classes, para resolver problemas.\n",
    "\n"
   ]
  },
  {
   "cell_type": "markdown",
   "metadata": {},
   "source": [
    "#### Programação Funcional"
   ]
  },
  {
   "cell_type": "code",
   "execution_count": 24,
   "metadata": {},
   "outputs": [
    {
     "name": "stdout",
     "output_type": "stream",
     "text": [
      "Imposto de: 750.0\n"
     ]
    }
   ],
   "source": [
    "def calcular_imposto(salario, taxa=0.1):\n",
    "    imposto = salario * taxa\n",
    "    print(\"Imposto de:\", imposto)\n",
    "    \n",
    "calcular_imposto(5000, 0.15)"
   ]
  },
  {
   "cell_type": "markdown",
   "metadata": {},
   "source": [
    "#### Classe\n",
    "- Modelo que descreve atributos e métodos que os objetos devem ter. (Molde)\n",
    "\n",
    "#### Objeto\n",
    "- É uma instância concreta de uma classe, que contém seus próprios valores de atributos e pode executar seus próprios métodos.\n",
    "##### Exemplo\n",
    "- Alface, queijo, molho, cebola e picles num pão com gergilim (CLASSE)\n",
    "- Hamburguer (OBJETO)\n",
    "\n",
    "- Cachorro tem pelo, patas, late, corre e come (CLASSE)\n",
    "- Scooby-Doo, Marley, Cookie (OBJETO)\n"
   ]
  },
  {
   "cell_type": "markdown",
   "metadata": {},
   "source": [
    "#### Abstração\n",
    "- Capacidade de representar objetos do mundo real de maneira simplificada. \n",
    "- Abstrair algo significa esconder os detalhes da implementação dentro de algo – às vezes um protótipo, às vezes em uma função. \n"
   ]
  },
  {
   "cell_type": "markdown",
   "metadata": {},
   "source": [
    "#### Classe e Objetos em Python"
   ]
  },
  {
   "cell_type": "code",
   "execution_count": 25,
   "metadata": {},
   "outputs": [],
   "source": [
    "class Cachorro: #CLASSE CACHORRO\n",
    "    def __init__(self, nome, idade, raca): #__init__ CONSTRUTOR\n",
    "        self.nome = nome #ATRIBUTOS\n",
    "        self.idade = idade\n",
    "        self.raca = raca\n",
    "        \n",
    "    def latir(self): #MÉTODO\n",
    "        print(\"Au\")\n",
    "        \n",
    "scooby = Cachorro(\"Scooby-Doo\", 6, \"Dogue Alemão\") #OBJETO"
   ]
  },
  {
   "cell_type": "markdown",
   "metadata": {},
   "source": [
    "#### Atributo\n",
    "- Variável com dados de um objeto\n",
    "#### Métodos\n",
    "- Funções definidas para ações relacionadas ao objeto específico\n",
    "#### Construtor\n",
    "- Método especial chamado quando um objeto da classe é criado\n",
    "### Self\n",
    "- Tero usado para acessar atributos e métodos do objeto"
   ]
  },
  {
   "cell_type": "code",
   "execution_count": 26,
   "metadata": {},
   "outputs": [
    {
     "data": {
      "text/plain": [
       "27"
      ]
     },
     "execution_count": 26,
     "metadata": {},
     "output_type": "execute_result"
    }
   ],
   "source": [
    "class Pessoa: #CLASSE PESSOA\n",
    "    def __init__(self, nome, idade):\n",
    "        self.nome = nome #ATRIBUTOS\n",
    "        self.idade = idade\n",
    "        \n",
    "    def aniversario(self): #MÉTODO\n",
    "        self.idade += 1\n",
    "        \n",
    "joao = Pessoa(\"Joao Vitor\", 32) #OBJETO\n",
    "joao.idade \n",
    "\n",
    "joao.idade = 25\n",
    "joao.aniversario()\n",
    "\n",
    "joao.aniversario()\n",
    "joao.idade"
   ]
  },
  {
   "cell_type": "markdown",
   "metadata": {},
   "source": [
    "### Bibliotecas Importação"
   ]
  },
  {
   "cell_type": "markdown",
   "metadata": {},
   "source": [
    "- **Importação direta:** A forma mais comum de instanciar por importação direta do módulo."
   ]
  },
  {
   "cell_type": "code",
   "execution_count": 27,
   "metadata": {},
   "outputs": [
    {
     "name": "stdout",
     "output_type": "stream",
     "text": [
      "200\n"
     ]
    }
   ],
   "source": [
    "import requests #DI\n",
    "\n",
    "response = requests.get(\"https://www.google.com\")\n",
    "print(response.status_code)"
   ]
  },
  {
   "cell_type": "markdown",
   "metadata": {},
   "source": [
    "- **Importação com alias:** dar um nome mais curto a uma biblioteca, criando um objeto, para evitar digitar um nome longo repetidamente. "
   ]
  },
  {
   "cell_type": "code",
   "execution_count": 28,
   "metadata": {},
   "outputs": [
    {
     "data": {
      "text/plain": [
       "2.0"
      ]
     },
     "execution_count": 28,
     "metadata": {},
     "output_type": "execute_result"
    }
   ],
   "source": [
    "import numpy as np\n",
    "np.sqrt(4)"
   ]
  },
  {
   "cell_type": "markdown",
   "metadata": {},
   "source": [
    "- **Importação seletiva:** importar apenas as partes específicas da biblioteca que deseja usar. Isso pode economizar tempo e memória. Você também pode importar todas as funções e classes de uma biblioteca usando o caractere asterisco *"
   ]
  },
  {
   "cell_type": "code",
   "execution_count": 29,
   "metadata": {},
   "outputs": [],
   "source": [
    "from numpy import mean\n",
    "#ou\n",
    "from numpy import *"
   ]
  },
  {
   "cell_type": "code",
   "execution_count": 30,
   "metadata": {},
   "outputs": [
    {
     "data": {
      "text/plain": [
       "array([1, 2, 3])"
      ]
     },
     "execution_count": 30,
     "metadata": {},
     "output_type": "execute_result"
    }
   ],
   "source": [
    "import numpy as np\n",
    "np.array([1,2,3])"
   ]
  },
  {
   "cell_type": "code",
   "execution_count": 31,
   "metadata": {},
   "outputs": [
    {
     "name": "stdout",
     "output_type": "stream",
     "text": [
      "O dobro de 10 é 20\n"
     ]
    }
   ],
   "source": [
    "\n",
    "from utils import mostra_dobro\n",
    "mostra_dobro(10)"
   ]
  }
 ],
 "metadata": {
  "kernelspec": {
   "display_name": "Python 3",
   "language": "python",
   "name": "python3"
  },
  "language_info": {
   "codemirror_mode": {
    "name": "ipython",
    "version": 3
   },
   "file_extension": ".py",
   "mimetype": "text/x-python",
   "name": "python",
   "nbconvert_exporter": "python",
   "pygments_lexer": "ipython3",
   "version": "3.11.5"
  }
 },
 "nbformat": 4,
 "nbformat_minor": 2
}
