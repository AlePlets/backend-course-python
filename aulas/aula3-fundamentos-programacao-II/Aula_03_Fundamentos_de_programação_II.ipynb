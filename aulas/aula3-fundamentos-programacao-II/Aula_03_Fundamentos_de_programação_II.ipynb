{
  "cells": [
    {
      "cell_type": "markdown",
      "metadata": {
        "id": "1fE7pMN6iQWC"
      },
      "source": [
        "# Fundamentos de programação II"
      ]
    },
    {
      "cell_type": "markdown",
      "metadata": {
        "id": "g8s_4pBkiQWE"
      },
      "source": [
        "## Condicionais"
      ]
    },
    {
      "cell_type": "code",
      "execution_count": null,
      "metadata": {
        "id": "i7y7KlSfiQWE",
        "outputId": "565b648f-3d54-495b-f133-b99f15028fdb"
      },
      "outputs": [],
      "source": [
        "x = 5\n",
        "if x == 5:\n",
        "    print(\"x é 5\")"
      ]
    },
    {
      "cell_type": "code",
      "execution_count": null,
      "metadata": {
        "id": "X-tb_GIRiQWF",
        "outputId": "ea7becb6-f6e3-4caa-9ce5-9d46efbd59ef"
      },
      "outputs": [],
      "source": [
        "idade = 15\n",
        "altura = 1.6\n",
        "dia = 'sabado'\n",
        "\n",
        "if (idade > 12) and \\\n",
        "    (altura >= 1.5) and \\\n",
        "    (dia == 'sabado' or\n",
        "     dia == 'domingo'):\n",
        "    print(\"Montanha-russa liberada\")"
      ]
    },
    {
      "cell_type": "code",
      "execution_count": null,
      "metadata": {
        "id": "v3u-d_1siQWF",
        "outputId": "493566f7-34e1-4fb3-ca15-1da99eaf8025"
      },
      "outputs": [],
      "source": [
        "ano = 1990\n",
        "\n",
        "print(\"Você é da geração:\")\n",
        "if (ano > 1945) and (ano <= 1964):\n",
        "    print(\"Baby Boomers\")\n",
        "elif ano <= 1984:\n",
        "    print(\"Geração X\")\n",
        "elif ano <= 1999:\n",
        "    print(\"Geração Y\")\n",
        "elif ano >= 2000:\n",
        "    print(\"Geração Z\")\n",
        "else:\n",
        "    print(\"indeterminado\")"
      ]
    },
    {
      "cell_type": "code",
      "execution_count": null,
      "metadata": {
        "id": "-D45q6bniQWF",
        "outputId": "817a3f50-ff57-4fa8-c8a3-ff3806922dec"
      },
      "outputs": [],
      "source": [
        "x = 5\n",
        "y = 3\n",
        "if x > 2*y:\n",
        "    x = 3\n",
        "else:\n",
        "    x = 2\n",
        "    x = x*3\n",
        "if x/2 < y+2:\n",
        "    x = x + y\n",
        "print(x)"
      ]
    },
    {
      "cell_type": "code",
      "execution_count": null,
      "metadata": {
        "id": "PBPurnV_iQWF",
        "outputId": "57be20e0-6dc4-4b28-f033-0a707fc4b147"
      },
      "outputs": [],
      "source": [
        "x = 5\n",
        "y = 3\n",
        "if x > 2:\n",
        "    if y < 3:\n",
        "        x = 2\n",
        "    elif x == 6:\n",
        "        x = 3\n",
        "    else:\n",
        "        x = 1\n",
        "else:\n",
        "    x = 4\n",
        "print(x)"
      ]
    },
    {
      "cell_type": "code",
      "execution_count": null,
      "metadata": {
        "id": "RTQFxUP5iQWG"
      },
      "outputs": [],
      "source": [
        "#programacao eh filosofia\n",
        "if x or not x:\n",
        "    print(\"that is the question\")"
      ]
    },
    {
      "cell_type": "markdown",
      "metadata": {
        "id": "2de8VVTxiQWG"
      },
      "source": [
        "## Estruturas de Repetição"
      ]
    },
    {
      "cell_type": "code",
      "execution_count": null,
      "metadata": {
        "id": "cEtZfVyeiQWG",
        "outputId": "e2d76853-e762-400d-a4b2-2b9ea1768a0b"
      },
      "outputs": [],
      "source": [
        "soma = 1\n",
        "while soma < 12:\n",
        "    soma = soma + 2\n",
        "    print(soma)"
      ]
    },
    {
      "cell_type": "code",
      "execution_count": null,
      "metadata": {
        "id": "k1TyLW0yiQWG"
      },
      "outputs": [],
      "source": [
        "soma = 1\n",
        "while soma != 12: # CUIDADO!!!\n",
        "    soma = soma + 2\n",
        "    print(soma)"
      ]
    },
    {
      "cell_type": "code",
      "execution_count": null,
      "metadata": {
        "id": "VZUckaBqiQWG",
        "outputId": "e022fcde-c7c8-4e5b-a920-233b73046fca"
      },
      "outputs": [],
      "source": [
        "for i in [3,5,7,9,13]:\n",
        "    print(i)"
      ]
    },
    {
      "cell_type": "code",
      "execution_count": null,
      "metadata": {
        "id": "rE8wC7xuiQWG",
        "outputId": "fcfa3af7-1a30-4e56-cd1e-50cbe72378df"
      },
      "outputs": [],
      "source": [
        "for c in \"Ola\":\n",
        "    print(c)"
      ]
    },
    {
      "cell_type": "code",
      "execution_count": null,
      "metadata": {
        "id": "VS7Gyik1iQWH",
        "outputId": "daf5735f-7acb-4563-c9be-02034f820379"
      },
      "outputs": [],
      "source": [
        "for i in [1,2]:\n",
        "    for j in [3,4]:\n",
        "        print(i,j)"
      ]
    },
    {
      "cell_type": "code",
      "execution_count": null,
      "metadata": {
        "id": "GHLVsy2qiQWH",
        "outputId": "04b3b8dc-cc6a-41de-8af2-5b9fad016a3b"
      },
      "outputs": [],
      "source": [
        "for i in range(4):\n",
        "    print(i)"
      ]
    },
    {
      "cell_type": "code",
      "execution_count": null,
      "metadata": {
        "id": "682xYVeHiQWH",
        "outputId": "defed62f-f391-4a1a-febf-f0d006fc5241"
      },
      "outputs": [],
      "source": [
        "for i in range(1,5):\n",
        "    print(i)"
      ]
    },
    {
      "cell_type": "code",
      "execution_count": null,
      "metadata": {
        "id": "kRHETYeViQWH",
        "outputId": "074fb5f2-6f4f-4414-b1b0-5973c8760952"
      },
      "outputs": [],
      "source": [
        "for i in range(20,60,10):\n",
        "    print(i)"
      ]
    },
    {
      "cell_type": "code",
      "execution_count": null,
      "metadata": {
        "id": "Wc0U7SeXiQWH",
        "outputId": "dd774669-e4d1-4abd-f087-fae97d328ac0"
      },
      "outputs": [],
      "source": [
        "for i in range(10):\n",
        "    print(i)\n",
        "    if i >= 4:\n",
        "        break\n"
      ]
    },
    {
      "cell_type": "code",
      "execution_count": null,
      "metadata": {
        "id": "S2GihbS8iQWH",
        "outputId": "8879bb9f-289d-4741-ac10-1202e372da7d"
      },
      "outputs": [],
      "source": [
        "for i in range(10):\n",
        "    if i <= 4:\n",
        "        continue\n",
        "    print(i)\n"
      ]
    },
    {
      "cell_type": "code",
      "execution_count": null,
      "metadata": {
        "id": "UX-AeuesiQWI"
      },
      "outputs": [],
      "source": []
    }
  ],
  "metadata": {
    "colab": {
      "provenance": []
    },
    "kernelspec": {
      "display_name": "Python 3",
      "language": "python",
      "name": "python3"
    },
    "language_info": {
      "codemirror_mode": {
        "name": "ipython",
        "version": 3
      },
      "file_extension": ".py",
      "mimetype": "text/x-python",
      "name": "python",
      "nbconvert_exporter": "python",
      "pygments_lexer": "ipython3",
      "version": "3.10.8"
    },
    "orig_nbformat": 4,
    "vscode": {
      "interpreter": {
        "hash": "9f8688d2bc69c748babb560adc9158621fb8aef49546882c3e4c6326402dd0cc"
      }
    }
  },
  "nbformat": 4,
  "nbformat_minor": 0
}
