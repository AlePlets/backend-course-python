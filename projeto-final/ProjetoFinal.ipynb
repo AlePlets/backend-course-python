{
 "cells": [
  {
   "cell_type": "markdown",
   "metadata": {},
   "source": [
    "# Projeto Final"
   ]
  },
  {
   "cell_type": "markdown",
   "metadata": {},
   "source": [
    "## Primeira Entrega:\n",
    "- Escolher uma API da lista disponível; \n",
    "- Fazer a extração de pelo menos 3 tabelas;\n",
    "- Criar um alerta de erro usando a função alerta() do desafio da aula Fundamentos de programação III."
   ]
  },
  {
   "cell_type": "code",
   "execution_count": null,
   "metadata": {},
   "outputs": [],
   "source": [
    "import requests \n",
    "import pandas as pd\n",
    "from datetime import datetime\n",
    "from plyer import notification \n",
    "\n",
    "url = 'https://restcountries.com/v3.1/all'\n",
    "response = requests.get(url)\n",
    "\n",
    "if response.status_code == 200:\n",
    "    data_json = response.json()\n",
    "    print(response)\n",
    "else: \n",
    "    print('Erro ao acessar a API')"
   ]
  },
  {
   "cell_type": "code",
   "execution_count": null,
   "metadata": {},
   "outputs": [],
   "source": [
    "data_json\n",
    "pokemon = pd.DataFrame(data_json)\n",
    "pokemon.head()"
   ]
  },
  {
   "cell_type": "code",
   "execution_count": 13,
   "metadata": {},
   "outputs": [],
   "source": [
    "def alerta(nivel, base, etapa):\n",
    "    now = str(datetime.now())\n",
    "    msg = f\"Falha no carregamento da base {base} na etapa {etapa}.\\n{now}\"\n",
    "\n",
    "    if nivel == 1:\n",
    "        title = 'ATENÇÃO: Alerta Baixo'\n",
    "    elif nivel == 2:\n",
    "        title = 'ATENÇÃO: Alerta Médio'\n",
    "    elif nivel == 3:\n",
    "        title = 'ATENÇÃO: Alerta Alto'\n",
    "    else:\n",
    "        print(\"Nivel\",nivel,\"não disponível!\")\n",
    "\n",
    "    notification.notify(\n",
    "        title=title,\n",
    "        message=msg,\n",
    "        app_name='alerta',\n",
    "        timeout=10\n",
    "    )\n"
   ]
  },
  {
   "cell_type": "code",
   "execution_count": 19,
   "metadata": {},
   "outputs": [],
   "source": [
    "try:\n",
    "    response = requests.get('https://restcountries.com/v3.1/all')\n",
    "    response.raise_for_status()  \n",
    "    data = response.json()\n",
    "\n",
    "    countries = pd.DataFrame([{'name': country['name']['common'], 'capital': country.get('capital', [''])[0], 'region': country['region']} for country in data])\n",
    "\n",
    "    countries.to_csv('countries.csv', index=False)\n",
    "\n",
    "except requests.exceptions.HTTPError as errh:\n",
    "    alerta(nivel=3, base=\"REST Countries\", etapa=\"EXTRACAO\")\n",
    "    print(errh)\n",
    "except requests.exceptions.ConnectionError as errc:\n",
    "    alerta(nivel=3, base=\"REST Countries\", etapa=\"EXTRACAO\")\n",
    "    print(errc)\n",
    "except requests.exceptions.Timeout as errt:\n",
    "    alerta(nivel=2, base=\"REST Countries\", etapa=\"EXTRACAO\")\n",
    "    print(errt)\n",
    "except requests.exceptions.RequestException as err:\n",
    "    alerta(nivel=3, base=\"REST Countries\", etapa=\"EXTRACAO\")\n",
    "    print(err)\n"
   ]
  },
  {
   "cell_type": "code",
   "execution_count": 18,
   "metadata": {},
   "outputs": [
    {
     "ename": "RequestException",
     "evalue": "Erro genérico simulado",
     "output_type": "error",
     "traceback": [
      "\u001b[0;31m---------------------------------------------------------------------------\u001b[0m",
      "\u001b[0;31mRequestException\u001b[0m                          Traceback (most recent call last)",
      "Cell \u001b[0;32mIn[18], line 1\u001b[0m\n\u001b[0;32m----> 1\u001b[0m \u001b[38;5;28;01mraise\u001b[39;00m requests\u001b[38;5;241m.\u001b[39mexceptions\u001b[38;5;241m.\u001b[39mRequestException(\u001b[38;5;124m\"\u001b[39m\u001b[38;5;124mErro genérico simulado\u001b[39m\u001b[38;5;124m\"\u001b[39m)\n",
      "\u001b[0;31mRequestException\u001b[0m: Erro genérico simulado"
     ]
    }
   ],
   "source": [
    "raise requests.exceptions.RequestException(\"Erro genérico simulado\")\n"
   ]
  }
 ],
 "metadata": {
  "kernelspec": {
   "display_name": "Python 3",
   "language": "python",
   "name": "python3"
  },
  "language_info": {
   "codemirror_mode": {
    "name": "ipython",
    "version": 3
   },
   "file_extension": ".py",
   "mimetype": "text/x-python",
   "name": "python",
   "nbconvert_exporter": "python",
   "pygments_lexer": "ipython3",
   "version": "3.10.11"
  }
 },
 "nbformat": 4,
 "nbformat_minor": 2
}
