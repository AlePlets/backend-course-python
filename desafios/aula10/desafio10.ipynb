{
 "cells": [
  {
   "cell_type": "markdown",
   "metadata": {},
   "source": [
    "# Manipulações com Pandas II"
   ]
  },
  {
   "cell_type": "markdown",
   "metadata": {},
   "source": [
    "- Usando o arquivo \"best-selling game consoles.xlsx\" conte quantos consoles tem na base por companhias."
   ]
  },
  {
   "cell_type": "code",
   "execution_count": 15,
   "metadata": {},
   "outputs": [
    {
     "name": "stdout",
     "output_type": "stream",
     "text": [
      "                    Company  Console Count\n",
      "0                  Nintendo             17\n",
      "1                      Sony              7\n",
      "2                      Sega              7\n",
      "3                 Microsoft              4\n",
      "4                     Atari              4\n",
      "5                    Tectoy              2\n",
      "6                    Coleco              2\n",
      "7   NEC/Hudson Soft[note 6]              1\n",
      "8              Micro Genius              1\n",
      "9                    Bandai              1\n",
      "10                   Mattel              1\n",
      "11                    Nokia              1\n",
      "12         Magnavox/Philips              1\n",
      "13                      NEC              1\n",
      "14                  Philips              1\n"
     ]
    }
   ],
   "source": [
    "import pandas as pd\n",
    "\n",
    "df = pd.read_csv(\"best-selling game consoles.csv\")\n",
    "\n",
    "consoles_cia = df['Company'].value_counts().reset_index()\n",
    "consoles_cia.columns = ['Company', 'Console Count']\n",
    "\n",
    "print(consoles_cia)\n"
   ]
  },
  {
   "cell_type": "markdown",
   "metadata": {},
   "source": [
    "- Ordene o resultado anterior pela quantidade de consoles por companhia de forma decrescente. "
   ]
  },
  {
   "cell_type": "code",
   "execution_count": 16,
   "metadata": {},
   "outputs": [
    {
     "name": "stdout",
     "output_type": "stream",
     "text": [
      "                    Company  Console Count\n",
      "0                  Nintendo             17\n",
      "1                      Sony              7\n",
      "2                      Sega              7\n",
      "3                 Microsoft              4\n",
      "4                     Atari              4\n",
      "5                    Tectoy              2\n",
      "6                    Coleco              2\n",
      "7   NEC/Hudson Soft[note 6]              1\n",
      "8              Micro Genius              1\n",
      "9                    Bandai              1\n",
      "10                   Mattel              1\n",
      "11                    Nokia              1\n",
      "12         Magnavox/Philips              1\n",
      "13                      NEC              1\n",
      "14                  Philips              1\n"
     ]
    }
   ],
   "source": [
    "consoles_desc = consoles_cia.sort_values(by='Console Count', ascending=False)\n",
    "print(consoles_desc)"
   ]
  },
  {
   "cell_type": "markdown",
   "metadata": {},
   "source": [
    "- Sobre o dataframe anterior, adicione a coluna \"Market Value\" presente na tabela do arquivo \"company.txt\"."
   ]
  },
  {
   "cell_type": "code",
   "execution_count": 17,
   "metadata": {},
   "outputs": [
    {
     "name": "stdout",
     "output_type": "stream",
     "text": [
      "                    Company  Console Count  Market Value\n",
      "0                  Nintendo             17         22615\n",
      "1                      Sony              7          7177\n",
      "2                      Sega              7         10391\n",
      "3                 Microsoft              4          3154\n",
      "4                     Atari              4          4160\n",
      "5                    Tectoy              2          2538\n",
      "6                    Coleco              2           767\n",
      "7   NEC/Hudson Soft[note 6]              1           547\n",
      "8              Micro Genius              1           689\n",
      "9                    Bandai              1           913\n",
      "10                   Mattel              1           548\n",
      "11                    Nokia              1           637\n",
      "12         Magnavox/Philips              1           693\n",
      "13                      NEC              1           387\n",
      "14                  Philips              1           899\n"
     ]
    }
   ],
   "source": [
    "company_values = pd.read_csv(\"company.txt\")\n",
    "df_merged = pd.merge(consoles_desc, company_values, on=\"Company\", how=\"left\")\n",
    "print(df_merged)\n"
   ]
  },
  {
   "cell_type": "markdown",
   "metadata": {},
   "source": [
    "- Qual o valor médio de Market Value por console?"
   ]
  },
  {
   "cell_type": "code",
   "execution_count": 19,
   "metadata": {},
   "outputs": [
    {
     "name": "stdout",
     "output_type": "stream",
     "text": [
      "Valor médio de Market Value por console = 3741.0\n"
     ]
    }
   ],
   "source": [
    "media_market_value = df_merged['Market Value'].mean()\n",
    "print(\"Valor médio de Market Value por console =\", media_market_value)\n"
   ]
  }
 ],
 "metadata": {
  "kernelspec": {
   "display_name": "Python 3",
   "language": "python",
   "name": "python3"
  },
  "language_info": {
   "codemirror_mode": {
    "name": "ipython",
    "version": 3
   },
   "file_extension": ".py",
   "mimetype": "text/x-python",
   "name": "python",
   "nbconvert_exporter": "python",
   "pygments_lexer": "ipython3",
   "version": "3.10.11"
  }
 },
 "nbformat": 4,
 "nbformat_minor": 2
}
