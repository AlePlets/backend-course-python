{
 "cells": [
  {
   "cell_type": "markdown",
   "metadata": {},
   "source": [
    "# Tratamento das Bases\n",
    "- Realizar o tratamento das bases coletadas via API do projeto final na aula 12."
   ]
  },
  {
   "cell_type": "markdown",
   "metadata": {},
   "source": [
    "- Ajuste os nomes das colunas e linhas. \n",
    "- Filtros de linhas e colunas, se necessário. \n",
    "- unstack e/ou stack.\n",
    "- Tratamento do tipo das variáveis.\n",
    "- Ajuste de missing.\n",
    "- Tratamento de colunas string. \n",
    "- Você pode criar novas tabelas, salvando as bases brutas e as bases tratadas.\n",
    "- As bases finais precisam estar totalmente ajustadas (da melhor forma possível) e salvas no banco de dados.\n",
    "\n"
   ]
  }
 ],
 "metadata": {
  "language_info": {
   "name": "python"
  }
 },
 "nbformat": 4,
 "nbformat_minor": 2
}
