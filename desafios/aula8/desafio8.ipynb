{
 "cells": [
  {
   "cell_type": "markdown",
   "metadata": {},
   "source": [
    "# Desafio 8\n",
    "## Desafio Nintendo\n"
   ]
  },
  {
   "cell_type": "markdown",
   "metadata": {},
   "source": [
    "- Abra o arquivo \"best-selling game consoles.xlsx\" em um dataframe.\n",
    "- Substitua a palavra \"NES\" por \"Nitendinho\" no nome dos consoles e deixe todos os nomes em maiúsculos.\n",
    "- Filtre o nome dos consoles com data de release depois de 2010.\n",
    "- De um describe e info da base, substitua os missing values pela string \"missing\".\n",
    "- Filtre os consoles que foram descontinuados a menos de 2 anos da data de release.\n"
   ]
  },
  {
   "cell_type": "code",
   "execution_count": null,
   "metadata": {},
   "outputs": [],
   "source": [
    "import pandas as pd\n",
    "\n",
    "df = pd.read_csv(r\"best-selling game consoles.csv\")\n",
    "print(df.columns.tolist())"
   ]
  },
  {
   "cell_type": "code",
   "execution_count": null,
   "metadata": {},
   "outputs": [],
   "source": [
    "df['Console Name'] = df['Console Name'].str.replace('NES', 'Nitendinho').str.upper()\n",
    "print(df)"
   ]
  },
  {
   "cell_type": "code",
   "execution_count": null,
   "metadata": {},
   "outputs": [],
   "source": [
    "df_2010 = df[df['Released Year'] > 2010]\n",
    "console_2010 = df_2010['Console Name']\n",
    "print(console_2010)\n",
    "\n",
    "\n"
   ]
  },
  {
   "cell_type": "code",
   "execution_count": null,
   "metadata": {},
   "outputs": [],
   "source": [
    "description_numeric = df.describe()\n",
    "description_categorical = df.describe(include=['object'])\n",
    "print(description_numeric)\n",
    "print(description_categorical)\n",
    "\n",
    "\n",
    "df['Discontinuation Year'] = df['Discontinuation Year'].replace(0, 'missing')\n",
    "df = df.fillna('missing')\n",
    "df['Released Year'] = df['Released Year'].astype(int)\n",
    "print(df['Discontinuation Year'].unique())\n",
    "print(df.head())\n"
   ]
  },
  {
   "cell_type": "code",
   "execution_count": null,
   "metadata": {},
   "outputs": [],
   "source": [
    "df['Released Year'] = pd.to_numeric(df['Released Year'], errors='coerce')\n",
    "df['Discontinuation Year'] = pd.to_numeric(df['Discontinuation Year'], errors='coerce')\n",
    "df['Discontinuation Year'].fillna(3000, inplace=True)\n",
    "\n",
    "df_discontinued_within_2_years = df[(df['Discontinuation Year'] - df['Released Year']) < 2]\n",
    "\n",
    "print(\"Consoles descontinuados a menos de 2 anos após o lançamento:\")\n",
    "print(df_discontinued_within_2_years[['Console Name', 'Released Year', 'Discontinuation Year']])\n"
   ]
  }
 ],
 "metadata": {
  "kernelspec": {
   "display_name": "Python 3",
   "language": "python",
   "name": "python3"
  },
  "language_info": {
   "codemirror_mode": {
    "name": "ipython",
    "version": 3
   },
   "file_extension": ".py",
   "mimetype": "text/x-python",
   "name": "python",
   "nbconvert_exporter": "python",
   "pygments_lexer": "ipython3",
   "version": "3.10.11"
  }
 },
 "nbformat": 4,
 "nbformat_minor": 2
}
