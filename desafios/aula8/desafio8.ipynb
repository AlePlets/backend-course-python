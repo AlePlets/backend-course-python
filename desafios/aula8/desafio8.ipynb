{
 "cells": [
  {
   "cell_type": "markdown",
   "metadata": {},
   "source": [
    "# Desafio 8\n",
    "## Desafio Nintendo\n"
   ]
  },
  {
   "cell_type": "markdown",
   "metadata": {},
   "source": [
    "- Abra o arquivo \"best-selling game consoles.xlsx\" em um dataframe.\n",
    "- Substitua a palavra \"NES\" por \"Nitendinho\" no nome dos consoles e deixe todos os nomes em maiúsculos.\n",
    "- Filtre o nome dos consoles com data de release depois de 2010.\n",
    "- De um describe e info da base, substitua os missing values pela string \"missing\".\n",
    "- Filtre os consoles que foram descontinuados a menos de 2 anos da data de release.\n"
   ]
  },
  {
   "cell_type": "code",
   "execution_count": 56,
   "metadata": {},
   "outputs": [
    {
     "name": "stdout",
     "output_type": "stream",
     "text": [
      "['Console Name', 'Type', 'Company', 'Released Year', 'Discontinuation Year', 'Units sold (million)', 'Remarks']\n"
     ]
    }
   ],
   "source": [
    "import pandas as pd\n",
    "\n",
    "df = pd.read_csv(r\"best-selling game consoles.csv\")\n",
    "print(df.columns.tolist())"
   ]
  },
  {
   "cell_type": "code",
   "execution_count": 57,
   "metadata": {},
   "outputs": [
    {
     "name": "stdout",
     "output_type": "stream",
     "text": [
      "                         Console Name                 Type  \\\n",
      "0                       PLAYSTATION 2                 Home   \n",
      "1                         NINTENDO DS             Handheld   \n",
      "2                     NINTENDO SWITCH               Hybrid   \n",
      "3                            GAME BOY             Handheld   \n",
      "4                      GAME BOY COLOR             Handheld   \n",
      "5                       PLAYSTATION 4                 Home   \n",
      "6                         PLAYSTATION                 Home   \n",
      "7                                 WII                 Home   \n",
      "8                       PLAYSTATION 3                 Home   \n",
      "9                            XBOX 360                 Home   \n",
      "10                   GAME BOY ADVANCE             Handheld   \n",
      "11               PLAYSTATION PORTABLE             Handheld   \n",
      "12                       NINTENDO 3DS             Handheld   \n",
      "13                 NITENDINHO/FAMICOM                 Home   \n",
      "14                           XBOX ONE                 Home   \n",
      "15          SNITENDINHO/SUPER FAMICOM                 Home   \n",
      "16                       GAME & WATCH             Handheld   \n",
      "17                        NINTENDO 64                 Home   \n",
      "18            SEGA GENESIS/MEGA DRIVE                 Home   \n",
      "19                      PLAYSTATION 5                 Home   \n",
      "20                         ATARI 2600                 Home   \n",
      "21                               XBOX                 Home   \n",
      "22                           GAMECUBE                 Home   \n",
      "23                    XBOX SERIES X/S                 Home   \n",
      "24                              WII U                 Home   \n",
      "25                   PLAYSTATION VITA             Handheld   \n",
      "26                 SEGA MASTER SYSTEM                 Home   \n",
      "27                     SEGA GAME GEAR             Handheld   \n",
      "28            PC ENGINE/TURBOGRAFX-16                 Home   \n",
      "29                        SEGA SATURN                 Home   \n",
      "30                          DREAMCAST                 Home   \n",
      "31  MASTER SYSTEM(BRAZILIAN VARIANTS)                 Home   \n",
      "32                   DENDY(FAMICLONE)                 Home   \n",
      "33   SUPER NITENDINHO CLASSIC EDITION            Dedicated   \n",
      "34                FAMICOM DISK SYSTEM  Home console add-on   \n",
      "35         NITENDINHO CLASSIC EDITION            Dedicated   \n",
      "36                         WONDERSWAN             Handheld   \n",
      "37                          SEGA PICO                 Home   \n",
      "38                      COLOR TV-GAME            Dedicated   \n",
      "39                      INTELLIVISION                 Home   \n",
      "40     MEGA DRIVE(BRAZILIAN VARIANTS)                 Home   \n",
      "41                             N-GAGE             Handheld   \n",
      "42                            SEGA CD  Home console add-on   \n",
      "43                       COLECOVISION                 Home   \n",
      "44                   MAGNAVOX ODYSSEY                 Home   \n",
      "45                   PC ENGINE CD-ROM  Home console add-on   \n",
      "46                         ATARI 7800                 Home   \n",
      "47                         ATARI LYNX             Handheld   \n",
      "48                       PHILIPS CD-I                 Home   \n",
      "49                            TELSTAR            Dedicated   \n",
      "50                         ATARI 5200                 Home   \n",
      "\n",
      "                    Company  Released Year  Discontinuation Year  \\\n",
      "0                      Sony           2000                  2013   \n",
      "1                  Nintendo           2004                  2013   \n",
      "2                  Nintendo           2017                     0   \n",
      "3                  Nintendo           1989                  2003   \n",
      "4                  Nintendo           1998                  2003   \n",
      "5                      Sony           2013                     0   \n",
      "6                      Sony           1994                  2006   \n",
      "7                  Nintendo           2006                  2013   \n",
      "8                      Sony           2006                  2017   \n",
      "9                 Microsoft           2005                  2016   \n",
      "10                 Nintendo           2001                  2010   \n",
      "11                     Sony           2004                  2014   \n",
      "12                 Nintendo           2011                  2020   \n",
      "13                 Nintendo           1983                  2003   \n",
      "14                Microsoft           2013                  2020   \n",
      "15                 Nintendo           1990                  2003   \n",
      "16                 Nintendo           1980                  1991   \n",
      "17                 Nintendo           1996                  2002   \n",
      "18                     Sega           1988                  1997   \n",
      "19                     Sony           2020                     0   \n",
      "20                    Atari           1977                  1992   \n",
      "21                Microsoft           2001                  2009   \n",
      "22                 Nintendo           2001                  2007   \n",
      "23                Microsoft           2020                     0   \n",
      "24                 Nintendo           2012                  2017   \n",
      "25                     Sony           2011                  2019   \n",
      "26                     Sega           1986                  1996   \n",
      "27                     Sega           1990                  1997   \n",
      "28  NEC/Hudson Soft[note 6]           1987                  1994   \n",
      "29                     Sega           1994                  2000   \n",
      "30                     Sega           1998                  2001   \n",
      "31                   Tectoy           1989                  1996   \n",
      "32             Micro Genius           1992                  1998   \n",
      "33                 Nintendo           2017                  2018   \n",
      "34                 Nintendo           1986                  1992   \n",
      "35                 Nintendo           2016                  2018   \n",
      "36                   Bandai           1999                  2018   \n",
      "37                     Sega           1993                  1998   \n",
      "38                 Nintendo           1977                  1980   \n",
      "39                   Mattel           1980                  1990   \n",
      "40                   Tectoy           1990                  1996   \n",
      "41                    Nokia           2003                  2005   \n",
      "42                     Sega           1991                  1996   \n",
      "43                   Coleco           1982                  1985   \n",
      "44         Magnavox/Philips           1978                  1975   \n",
      "45                      NEC           1988                  1998   \n",
      "46                    Atari           1986                  1991   \n",
      "47                    Atari           1989                  1995   \n",
      "48                  Philips           1990                  1998   \n",
      "49                   Coleco           1976                  1978   \n",
      "50                    Atari           1982                  1984   \n",
      "\n",
      "    Units sold (million)                                            Remarks  \n",
      "0                 155.00           Final sales are greater than 155 million  \n",
      "1                 154.02                                                NaN  \n",
      "2                 122.55                                                NaN  \n",
      "3                  64.42  The Game Boy (1989) and the Game Boy Color (19...  \n",
      "4                  44.06                                                NaN  \n",
      "5                 117.20                                                NaN  \n",
      "6                 102.49                                                NaN  \n",
      "7                 101.63                                                NaN  \n",
      "8                  87.40          Final sales are greater than 87.4 million  \n",
      "9                  84.00            Final sales are greater than 84 million  \n",
      "10                 81.51                                                NaN  \n",
      "11                 82.00                    Estimated between 80-82 million  \n",
      "12                 75.94                                                NaN  \n",
      "13                 61.91                                                NaN  \n",
      "14                 58.50                  Estimated between 51-58.5 million  \n",
      "15                 49.10                                                NaN  \n",
      "16                 43.40                                                NaN  \n",
      "17                 32.93                                                NaN  \n",
      "18                 30.75                                                NaN  \n",
      "19                 30.00                                                NaN  \n",
      "20                 30.00                                                NaN  \n",
      "21                 24.00                                                NaN  \n",
      "22                 21.74                                                NaN  \n",
      "23                 18.50                  Approximately around 18.5 million  \n",
      "24                 13.56                                                NaN  \n",
      "25                 15.00                    Estimated between 10-15 million  \n",
      "26                 13.00  Estimated between 10-13 million. Fun Fact The ...  \n",
      "27                 10.62                                                NaN  \n",
      "28                 10.00                                                NaN  \n",
      "29                  9.26                                                NaN  \n",
      "30                  9.13                                                NaN  \n",
      "31                  8.00                                                NaN  \n",
      "32                  6.00                                                NaN  \n",
      "33                  5.28                                                NaN  \n",
      "34                  4.50                                                NaN  \n",
      "35                  3.56                                                NaN  \n",
      "36                  3.50                                                NaN  \n",
      "37                  3.40           Final sales are greater than 3.4 million  \n",
      "38                  3.00                                                NaN  \n",
      "39                  3.00                                                NaN  \n",
      "40                  3.00                                                NaN  \n",
      "41                  3.00                                                NaN  \n",
      "42                  2.24                                                NaN  \n",
      "43                  2.00             Final sales are greater than 2 million  \n",
      "44                  2.00                                                NaN  \n",
      "45                  1.92                                                NaN  \n",
      "46                  1.00             Final sales are greater than 1 million  \n",
      "47                  1.00             Final sales are greater than 1 million  \n",
      "48                  1.00             Final sales are greater than 1 million  \n",
      "49                  1.00             Final sales are greater than 1 million  \n",
      "50                  1.00             Final sales are greater than 1 million  \n"
     ]
    }
   ],
   "source": [
    "df['Console Name'] = df['Console Name'].str.replace('NES', 'Nitendinho').str.upper()\n",
    "print(df)"
   ]
  },
  {
   "cell_type": "code",
   "execution_count": 58,
   "metadata": {},
   "outputs": [
    {
     "name": "stdout",
     "output_type": "stream",
     "text": [
      "2                      NINTENDO SWITCH\n",
      "5                        PLAYSTATION 4\n",
      "12                        NINTENDO 3DS\n",
      "14                            XBOX ONE\n",
      "19                       PLAYSTATION 5\n",
      "23                     XBOX SERIES X/S\n",
      "24                               WII U\n",
      "25                    PLAYSTATION VITA\n",
      "33    SUPER NITENDINHO CLASSIC EDITION\n",
      "35          NITENDINHO CLASSIC EDITION\n",
      "Name: Console Name, dtype: object\n"
     ]
    }
   ],
   "source": [
    "df_2010 = df[df['Released Year'] > 2010]\n",
    "console_2010 = df_2010['Console Name']\n",
    "print(console_2010)\n",
    "\n",
    "\n"
   ]
  },
  {
   "cell_type": "code",
   "execution_count": 59,
   "metadata": {},
   "outputs": [
    {
     "name": "stdout",
     "output_type": "stream",
     "text": [
      "       Released Year  Discontinuation Year  Units sold (million)\n",
      "count      51.000000             51.000000             51.000000\n",
      "mean     1996.058824           1844.803922             35.549412\n",
      "std        12.378064            543.657319             42.608844\n",
      "min      1976.000000              0.000000              1.000000\n",
      "25%      1987.500000           1992.000000              3.200000\n",
      "50%      1994.000000           1998.000000             13.560000\n",
      "75%      2004.500000           2011.500000             60.205000\n",
      "max      2020.000000           2020.000000            155.000000\n",
      "         Console Name  Type   Company                                 Remarks\n",
      "count              51    51        51                                      16\n",
      "unique             51     5        15                                      12\n",
      "top     PLAYSTATION 2  Home  Nintendo  Final sales are greater than 1 million\n",
      "freq                1    31        17                                       5\n",
      "[2013 'missing' 2003 2006 2017 2016 2010 2014 2020 1991 2002 1997 1992\n",
      " 2009 2007 2019 1996 1994 2000 2001 1998 2018 1980 1990 2005 1985 1975\n",
      " 1995 1978 1984]\n",
      "      Console Name      Type   Company  Released Year Discontinuation Year  \\\n",
      "0    PLAYSTATION 2      Home      Sony           2000                 2013   \n",
      "1      NINTENDO DS  Handheld  Nintendo           2004                 2013   \n",
      "2  NINTENDO SWITCH    Hybrid  Nintendo           2017              missing   \n",
      "3         GAME BOY  Handheld  Nintendo           1989                 2003   \n",
      "4   GAME BOY COLOR  Handheld  Nintendo           1998                 2003   \n",
      "\n",
      "   Units sold (million)                                            Remarks  \n",
      "0                155.00           Final sales are greater than 155 million  \n",
      "1                154.02                                            missing  \n",
      "2                122.55                                            missing  \n",
      "3                 64.42  The Game Boy (1989) and the Game Boy Color (19...  \n",
      "4                 44.06                                            missing  \n"
     ]
    }
   ],
   "source": [
    "description_numeric = df.describe()\n",
    "description_categorical = df.describe(include=['object'])\n",
    "print(description_numeric)\n",
    "print(description_categorical)\n",
    "\n",
    "\n",
    "df['Discontinuation Year'] = df['Discontinuation Year'].replace(0, 'missing')\n",
    "df = df.fillna('missing')\n",
    "df['Released Year'] = df['Released Year'].astype(int)\n",
    "print(df['Discontinuation Year'].unique())\n",
    "print(df.head())\n"
   ]
  },
  {
   "cell_type": "code",
   "execution_count": 60,
   "metadata": {},
   "outputs": [
    {
     "name": "stdout",
     "output_type": "stream",
     "text": [
      "Consoles descontinuados a menos de 2 anos após o lançamento:\n",
      "                        Console Name  Released Year  Discontinuation Year\n",
      "33  SUPER NITENDINHO CLASSIC EDITION           2017                2018.0\n",
      "44                  MAGNAVOX ODYSSEY           1978                1975.0\n"
     ]
    }
   ],
   "source": [
    "df['Released Year'] = pd.to_numeric(df['Released Year'], errors='coerce')\n",
    "df['Discontinuation Year'] = pd.to_numeric(df['Discontinuation Year'], errors='coerce')\n",
    "df['Discontinuation Year'].fillna(3000, inplace=True)\n",
    "\n",
    "df_discontinued_within_2_years = df[(df['Discontinuation Year'] - df['Released Year']) < 2]\n",
    "\n",
    "print(\"Consoles descontinuados a menos de 2 anos após o lançamento:\")\n",
    "print(df_discontinued_within_2_years[['Console Name', 'Released Year', 'Discontinuation Year']])\n"
   ]
  }
 ],
 "metadata": {
  "kernelspec": {
   "display_name": "Python 3",
   "language": "python",
   "name": "python3"
  },
  "language_info": {
   "codemirror_mode": {
    "name": "ipython",
    "version": 3
   },
   "file_extension": ".py",
   "mimetype": "text/x-python",
   "name": "python",
   "nbconvert_exporter": "python",
   "pygments_lexer": "ipython3",
   "version": "3.10.11"
  }
 },
 "nbformat": 4,
 "nbformat_minor": 2
}
