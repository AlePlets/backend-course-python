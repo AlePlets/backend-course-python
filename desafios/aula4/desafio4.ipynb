{
 "cells": [
  {
   "cell_type": "markdown",
   "metadata": {},
   "source": [
    "## Criando um alerta com notification.notify()\n",
    "\n",
    "\n",
    "- Vamos utilizar a função notification.notify() para criar uma função de alerta de falha de carregamento de base de dados (isso será usado no projeto final 😉)\n",
    "- \n",
    "- O código a seguir gera uma janela de alerta:\n",
    "\n",
    "     ```#!pip install plyer \n",
    "     from plyer import notification \n",
    "     notification.notify(\n",
    "          title='Título da notificação',\n",
    "          message='Mensagem da notificação',\n",
    "          app_name='Nome do aplicativo',\n",
    "          timeout=10 )\n",
    "     ```\n",
    "\n",
    "\n",
    "\n",
    "- A função precisa ter essa definição:\n",
    "\n",
    "     ```def alerta(nivel, base, etapa):```\n",
    "\n",
    "**Sendo:**\n",
    "- Ao chamar a função deverá gerar uma janela de alerta;\n",
    "Exibir a mensagem “Falha no carregamento da base {base} na etapa {etapa}”;\n",
    "Exibir a data atual;\n",
    "O título “Alerta Baixo” quando nivel = 1, “Alerta Médio” quando nivel = 2 e \"Alerta Alto” quando nivel = 3.\n",
    "\n",
    "**Exemplo:**\n",
    "     ```alerta(nivel = 2, base = \"CLIENTES\", etapa = \"EXTRACAO)```\n",
    "\n"
   ]
  }
 ],
 "metadata": {
  "language_info": {
   "name": "python"
  }
 },
 "nbformat": 4,
 "nbformat_minor": 2
}
