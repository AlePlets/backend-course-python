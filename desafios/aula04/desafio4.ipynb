{
 "cells": [
  {
   "cell_type": "markdown",
   "metadata": {},
   "source": [
    "## Criando um alerta com notification.notify()\n",
    "\n",
    "\n",
    "- Vamos utilizar a função notification.notify() para criar uma função de alerta de falha de carregamento de base de dados (isso será usado no projeto final 😉)\n",
    "- \n",
    "- O código a seguir gera uma janela de alerta:\n",
    "\n",
    "     ```#!pip install plyer \n",
    "     from plyer import notification \n",
    "     notification.notify(\n",
    "          title='Título da notificação',\n",
    "          message='Mensagem da notificação',\n",
    "          app_name='Nome do aplicativo',\n",
    "          timeout=10 )\n",
    "     ```\n",
    "\n",
    "\n",
    "\n",
    "- A função precisa ter essa definição:\n",
    "\n",
    "     ```def alerta(nivel, base, etapa):```\n",
    "\n",
    "**Sendo:**\n",
    "- Ao chamar a função deverá gerar uma janela de alerta;\n",
    "Exibir a mensagem “Falha no carregamento da base {base} na etapa {etapa}”;\n",
    "Exibir a data atual;\n",
    "O título “Alerta Baixo” quando nivel = 1, “Alerta Médio” quando nivel = 2 e \"Alerta Alto” quando nivel = 3.\n",
    "\n",
    "**Exemplo:**\n",
    "     ```alerta(nivel = 2, base = \"CLIENTES\", etapa = \"EXTRACAO)```\n",
    "\n"
   ]
  },
  {
   "cell_type": "code",
   "execution_count": null,
   "metadata": {},
   "outputs": [],
   "source": [
    "%pip install plyer\n"
   ]
  },
  {
   "cell_type": "code",
   "execution_count": null,
   "metadata": {},
   "outputs": [],
   "source": [
    "from plyer import notification\n",
    "notification.notify(\n",
    "    title='Teste de Notificação',\n",
    "    message='Esta é uma mensagem de teste.',\n",
    "    app_name='Aplicativo de Teste',\n",
    "    timeout=10\n",
    ")\n"
   ]
  },
  {
   "cell_type": "code",
   "execution_count": null,
   "metadata": {},
   "outputs": [],
   "source": [
    "from plyer import notification\n",
    "from datetime import datetime\n",
    "\n",
    "def alerta(nivel, base, etapa):\n",
    "    if nivel == 1:\n",
    "        titulo = \"Alerta Baixo\"\n",
    "    elif nivel == 2:\n",
    "        titulo = \"Alerta Médio\"\n",
    "    elif nivel == 3:\n",
    "        titulo = \"Alerta Alto\"\n",
    "    else:\n",
    "        titulo = \"Alerta Desconhecido\"\n",
    "\n",
    "    data_atual = datetime.now().strftime(\"%d/%m/%Y %H:%M:%S\")\n",
    "    mensagem = f\"Falha no carregamento da base {base} na etapa {etapa}. Data: {data_atual}\"\n",
    "\n",
    "    notification.notify(\n",
    "        title=titulo,\n",
    "        message=mensagem,\n",
    "        app_name='Nome do aplicativo',\n",
    "        timeout=10\n",
    "    )\n",
    "\n",
    "alerta(nivel=2, base=\"CLIENTES\", etapa=\"EXTRACAO\")\n"
   ]
  }
 ],
 "metadata": {
  "kernelspec": {
   "display_name": "Python 3",
   "language": "python",
   "name": "python3"
  },
  "language_info": {
   "codemirror_mode": {
    "name": "ipython",
    "version": 3
   },
   "file_extension": ".py",
   "mimetype": "text/x-python",
   "name": "python",
   "nbconvert_exporter": "python",
   "pygments_lexer": "ipython3",
   "version": "3.11.5"
  }
 },
 "nbformat": 4,
 "nbformat_minor": 2
}
